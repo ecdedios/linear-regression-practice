{
 "cells": [
  {
   "cell_type": "markdown",
   "id": "89e88caa-c445-4693-992b-332a09b9ac28",
   "metadata": {},
   "source": [
    "# PLANNING"
   ]
  },
  {
   "cell_type": "markdown",
   "id": "f66df8ba-8301-4a81-88c0-c584f6eb8fe1",
   "metadata": {},
   "source": [
    "## Environment"
   ]
  },
  {
   "cell_type": "code",
   "execution_count": 1,
   "id": "0508c631-0ccc-4f96-a769-f029f33aa2b6",
   "metadata": {},
   "outputs": [],
   "source": [
    "# For reproducibility\n",
    "import numpy as np\n",
    "\n",
    "# Set random seed for reproducibility\n",
    "np.random.seed(493)\n",
    "\n",
    "# Manipulating dataframes etc.\n",
    "import pandas as pd\n",
    "\n",
    "# To print out all the outputs\n",
    "from IPython.core.interactiveshell import InteractiveShell\n",
    "InteractiveShell.ast_node_interactivity = \"all\"\n",
    "\n",
    "# Set display options\n",
    "pd.set_option('display.max_columns', None)\n",
    "pd.set_option('display.max_rows', None)\n",
    "pd.set_option('display.max_colwidth', None)"
   ]
  },
  {
   "cell_type": "markdown",
   "id": "bfb05235-5ee1-454b-a25c-a9be35c374ff",
   "metadata": {},
   "source": [
    "# ACQUIRE DATA"
   ]
  },
  {
   "cell_type": "code",
   "execution_count": 2,
   "id": "0698b91f-875c-41f9-a618-8b44cc08f766",
   "metadata": {},
   "outputs": [],
   "source": [
    "# Load to df\n",
    "df = pd.read_csv(\"../data/fakeville_rent.csv\")"
   ]
  },
  {
   "cell_type": "markdown",
   "id": "835cc240-22be-4f9a-8c31-b482bf94e3de",
   "metadata": {},
   "source": [
    "# PREPARE DATA"
   ]
  },
  {
   "cell_type": "code",
   "execution_count": 3,
   "id": "2aeb4a81-b351-4a73-b1bc-dbb7337762af",
   "metadata": {},
   "outputs": [
    {
     "name": "stdout",
     "output_type": "stream",
     "text": [
      "<class 'pandas.core.frame.DataFrame'>\n",
      "RangeIndex: 553 entries, 0 to 552\n",
      "Data columns (total 8 columns):\n",
      " #   Column              Non-Null Count  Dtype  \n",
      "---  ------              --------------  -----  \n",
      " 0   SquareFeet          527 non-null    float64\n",
      " 1   Bedrooms            527 non-null    float64\n",
      " 2   Bathrooms           527 non-null    float64\n",
      " 3   Age                 526 non-null    float64\n",
      " 4   Floor               553 non-null    int64  \n",
      " 5   DistanceToDowntown  525 non-null    float64\n",
      " 6   HasParking          553 non-null    int64  \n",
      " 7   Rent                553 non-null    float64\n",
      "dtypes: float64(6), int64(2)\n",
      "memory usage: 34.7 KB\n"
     ]
    }
   ],
   "source": [
    "# Check column types and non-null counts\n",
    "df.info()"
   ]
  },
  {
   "cell_type": "code",
   "execution_count": 4,
   "id": "bf0ec9df-5786-4c57-8e16-472fb3640047",
   "metadata": {},
   "outputs": [
    {
     "data": {
      "text/html": [
       "<div>\n",
       "<style scoped>\n",
       "    .dataframe tbody tr th:only-of-type {\n",
       "        vertical-align: middle;\n",
       "    }\n",
       "\n",
       "    .dataframe tbody tr th {\n",
       "        vertical-align: top;\n",
       "    }\n",
       "\n",
       "    .dataframe thead th {\n",
       "        text-align: right;\n",
       "    }\n",
       "</style>\n",
       "<table border=\"1\" class=\"dataframe\">\n",
       "  <thead>\n",
       "    <tr style=\"text-align: right;\">\n",
       "      <th></th>\n",
       "      <th>SquareFeet</th>\n",
       "      <th>Bedrooms</th>\n",
       "      <th>Bathrooms</th>\n",
       "      <th>Age</th>\n",
       "      <th>Floor</th>\n",
       "      <th>DistanceToDowntown</th>\n",
       "      <th>HasParking</th>\n",
       "      <th>Rent</th>\n",
       "    </tr>\n",
       "  </thead>\n",
       "  <tbody>\n",
       "    <tr>\n",
       "      <th>count</th>\n",
       "      <td>527.000000</td>\n",
       "      <td>527.000000</td>\n",
       "      <td>527.000000</td>\n",
       "      <td>526.000000</td>\n",
       "      <td>553.000000</td>\n",
       "      <td>525.000000</td>\n",
       "      <td>553.000000</td>\n",
       "      <td>553.000000</td>\n",
       "    </tr>\n",
       "    <tr>\n",
       "      <th>mean</th>\n",
       "      <td>847.869070</td>\n",
       "      <td>2.037951</td>\n",
       "      <td>1.834915</td>\n",
       "      <td>22.956274</td>\n",
       "      <td>5.126582</td>\n",
       "      <td>5.035886</td>\n",
       "      <td>0.737794</td>\n",
       "      <td>2996.721754</td>\n",
       "    </tr>\n",
       "    <tr>\n",
       "      <th>std</th>\n",
       "      <td>195.564543</td>\n",
       "      <td>0.920036</td>\n",
       "      <td>0.909014</td>\n",
       "      <td>14.310435</td>\n",
       "      <td>2.542087</td>\n",
       "      <td>1.932683</td>\n",
       "      <td>0.440232</td>\n",
       "      <td>555.558410</td>\n",
       "    </tr>\n",
       "    <tr>\n",
       "      <th>min</th>\n",
       "      <td>400.000000</td>\n",
       "      <td>1.000000</td>\n",
       "      <td>1.000000</td>\n",
       "      <td>0.000000</td>\n",
       "      <td>1.000000</td>\n",
       "      <td>0.040000</td>\n",
       "      <td>0.000000</td>\n",
       "      <td>1741.330000</td>\n",
       "    </tr>\n",
       "    <tr>\n",
       "      <th>25%</th>\n",
       "      <td>711.000000</td>\n",
       "      <td>1.000000</td>\n",
       "      <td>1.000000</td>\n",
       "      <td>10.000000</td>\n",
       "      <td>3.000000</td>\n",
       "      <td>3.670000</td>\n",
       "      <td>0.000000</td>\n",
       "      <td>2593.870000</td>\n",
       "    </tr>\n",
       "    <tr>\n",
       "      <th>50%</th>\n",
       "      <td>843.000000</td>\n",
       "      <td>2.000000</td>\n",
       "      <td>2.000000</td>\n",
       "      <td>23.000000</td>\n",
       "      <td>5.000000</td>\n",
       "      <td>4.930000</td>\n",
       "      <td>1.000000</td>\n",
       "      <td>2932.490000</td>\n",
       "    </tr>\n",
       "    <tr>\n",
       "      <th>75%</th>\n",
       "      <td>972.000000</td>\n",
       "      <td>3.000000</td>\n",
       "      <td>2.000000</td>\n",
       "      <td>35.000000</td>\n",
       "      <td>7.000000</td>\n",
       "      <td>6.390000</td>\n",
       "      <td>1.000000</td>\n",
       "      <td>3344.280000</td>\n",
       "    </tr>\n",
       "    <tr>\n",
       "      <th>max</th>\n",
       "      <td>1456.000000</td>\n",
       "      <td>4.000000</td>\n",
       "      <td>4.000000</td>\n",
       "      <td>49.000000</td>\n",
       "      <td>9.000000</td>\n",
       "      <td>10.330000</td>\n",
       "      <td>1.000000</td>\n",
       "      <td>4807.080000</td>\n",
       "    </tr>\n",
       "  </tbody>\n",
       "</table>\n",
       "</div>"
      ],
      "text/plain": [
       "        SquareFeet    Bedrooms   Bathrooms         Age       Floor  \\\n",
       "count   527.000000  527.000000  527.000000  526.000000  553.000000   \n",
       "mean    847.869070    2.037951    1.834915   22.956274    5.126582   \n",
       "std     195.564543    0.920036    0.909014   14.310435    2.542087   \n",
       "min     400.000000    1.000000    1.000000    0.000000    1.000000   \n",
       "25%     711.000000    1.000000    1.000000   10.000000    3.000000   \n",
       "50%     843.000000    2.000000    2.000000   23.000000    5.000000   \n",
       "75%     972.000000    3.000000    2.000000   35.000000    7.000000   \n",
       "max    1456.000000    4.000000    4.000000   49.000000    9.000000   \n",
       "\n",
       "       DistanceToDowntown  HasParking         Rent  \n",
       "count          525.000000  553.000000   553.000000  \n",
       "mean             5.035886    0.737794  2996.721754  \n",
       "std              1.932683    0.440232   555.558410  \n",
       "min              0.040000    0.000000  1741.330000  \n",
       "25%              3.670000    0.000000  2593.870000  \n",
       "50%              4.930000    1.000000  2932.490000  \n",
       "75%              6.390000    1.000000  3344.280000  \n",
       "max             10.330000    1.000000  4807.080000  "
      ]
     },
     "execution_count": 4,
     "metadata": {},
     "output_type": "execute_result"
    }
   ],
   "source": [
    "# Numerical summary\n",
    "df.describe()"
   ]
  },
  {
   "cell_type": "code",
   "execution_count": 5,
   "id": "f4ca66bc-2fb3-4550-a24d-bac28dc4d6fa",
   "metadata": {},
   "outputs": [
    {
     "data": {
      "text/html": [
       "<div>\n",
       "<style scoped>\n",
       "    .dataframe tbody tr th:only-of-type {\n",
       "        vertical-align: middle;\n",
       "    }\n",
       "\n",
       "    .dataframe tbody tr th {\n",
       "        vertical-align: top;\n",
       "    }\n",
       "\n",
       "    .dataframe thead th {\n",
       "        text-align: right;\n",
       "    }\n",
       "</style>\n",
       "<table border=\"1\" class=\"dataframe\">\n",
       "  <thead>\n",
       "    <tr style=\"text-align: right;\">\n",
       "      <th></th>\n",
       "      <th>SquareFeet</th>\n",
       "      <th>Bedrooms</th>\n",
       "      <th>Bathrooms</th>\n",
       "      <th>Age</th>\n",
       "      <th>Floor</th>\n",
       "      <th>DistanceToDowntown</th>\n",
       "      <th>HasParking</th>\n",
       "      <th>Rent</th>\n",
       "    </tr>\n",
       "  </thead>\n",
       "  <tbody>\n",
       "    <tr>\n",
       "      <th>0</th>\n",
       "      <td>614.0</td>\n",
       "      <td>2.0</td>\n",
       "      <td>1.0</td>\n",
       "      <td>14.0</td>\n",
       "      <td>3</td>\n",
       "      <td>4.54</td>\n",
       "      <td>1</td>\n",
       "      <td>2457.91</td>\n",
       "    </tr>\n",
       "    <tr>\n",
       "      <th>1</th>\n",
       "      <td>1134.0</td>\n",
       "      <td>1.0</td>\n",
       "      <td>1.0</td>\n",
       "      <td>18.0</td>\n",
       "      <td>8</td>\n",
       "      <td>5.08</td>\n",
       "      <td>1</td>\n",
       "      <td>2949.49</td>\n",
       "    </tr>\n",
       "    <tr>\n",
       "      <th>2</th>\n",
       "      <td>880.0</td>\n",
       "      <td>2.0</td>\n",
       "      <td>1.0</td>\n",
       "      <td>18.0</td>\n",
       "      <td>5</td>\n",
       "      <td>3.48</td>\n",
       "      <td>1</td>\n",
       "      <td>3104.69</td>\n",
       "    </tr>\n",
       "    <tr>\n",
       "      <th>3</th>\n",
       "      <td>912.0</td>\n",
       "      <td>1.0</td>\n",
       "      <td>1.0</td>\n",
       "      <td>7.0</td>\n",
       "      <td>3</td>\n",
       "      <td>5.04</td>\n",
       "      <td>1</td>\n",
       "      <td>2685.09</td>\n",
       "    </tr>\n",
       "    <tr>\n",
       "      <th>4</th>\n",
       "      <td>873.0</td>\n",
       "      <td>3.0</td>\n",
       "      <td>NaN</td>\n",
       "      <td>48.0</td>\n",
       "      <td>2</td>\n",
       "      <td>2.79</td>\n",
       "      <td>1</td>\n",
       "      <td>3606.44</td>\n",
       "    </tr>\n",
       "  </tbody>\n",
       "</table>\n",
       "</div>"
      ],
      "text/plain": [
       "   SquareFeet  Bedrooms  Bathrooms   Age  Floor  DistanceToDowntown  \\\n",
       "0       614.0       2.0        1.0  14.0      3                4.54   \n",
       "1      1134.0       1.0        1.0  18.0      8                5.08   \n",
       "2       880.0       2.0        1.0  18.0      5                3.48   \n",
       "3       912.0       1.0        1.0   7.0      3                5.04   \n",
       "4       873.0       3.0        NaN  48.0      2                2.79   \n",
       "\n",
       "   HasParking     Rent  \n",
       "0           1  2457.91  \n",
       "1           1  2949.49  \n",
       "2           1  3104.69  \n",
       "3           1  2685.09  \n",
       "4           1  3606.44  "
      ]
     },
     "execution_count": 5,
     "metadata": {},
     "output_type": "execute_result"
    },
    {
     "data": {
      "text/html": [
       "<div>\n",
       "<style scoped>\n",
       "    .dataframe tbody tr th:only-of-type {\n",
       "        vertical-align: middle;\n",
       "    }\n",
       "\n",
       "    .dataframe tbody tr th {\n",
       "        vertical-align: top;\n",
       "    }\n",
       "\n",
       "    .dataframe thead th {\n",
       "        text-align: right;\n",
       "    }\n",
       "</style>\n",
       "<table border=\"1\" class=\"dataframe\">\n",
       "  <thead>\n",
       "    <tr style=\"text-align: right;\">\n",
       "      <th></th>\n",
       "      <th>SquareFeet</th>\n",
       "      <th>Bedrooms</th>\n",
       "      <th>Bathrooms</th>\n",
       "      <th>Age</th>\n",
       "      <th>Floor</th>\n",
       "      <th>DistanceToDowntown</th>\n",
       "      <th>HasParking</th>\n",
       "      <th>Rent</th>\n",
       "    </tr>\n",
       "  </thead>\n",
       "  <tbody>\n",
       "    <tr>\n",
       "      <th>548</th>\n",
       "      <td>916.0</td>\n",
       "      <td>2.0</td>\n",
       "      <td>2.0</td>\n",
       "      <td>47.0</td>\n",
       "      <td>7</td>\n",
       "      <td>NaN</td>\n",
       "      <td>0</td>\n",
       "      <td>2703.11</td>\n",
       "    </tr>\n",
       "    <tr>\n",
       "      <th>549</th>\n",
       "      <td>674.0</td>\n",
       "      <td>3.0</td>\n",
       "      <td>3.0</td>\n",
       "      <td>18.0</td>\n",
       "      <td>1</td>\n",
       "      <td>4.06</td>\n",
       "      <td>1</td>\n",
       "      <td>3589.11</td>\n",
       "    </tr>\n",
       "    <tr>\n",
       "      <th>550</th>\n",
       "      <td>896.0</td>\n",
       "      <td>2.0</td>\n",
       "      <td>2.0</td>\n",
       "      <td>25.0</td>\n",
       "      <td>6</td>\n",
       "      <td>7.53</td>\n",
       "      <td>1</td>\n",
       "      <td>2493.28</td>\n",
       "    </tr>\n",
       "    <tr>\n",
       "      <th>551</th>\n",
       "      <td>848.0</td>\n",
       "      <td>4.0</td>\n",
       "      <td>4.0</td>\n",
       "      <td>0.0</td>\n",
       "      <td>6</td>\n",
       "      <td>3.95</td>\n",
       "      <td>1</td>\n",
       "      <td>4383.80</td>\n",
       "    </tr>\n",
       "    <tr>\n",
       "      <th>552</th>\n",
       "      <td>1069.0</td>\n",
       "      <td>2.0</td>\n",
       "      <td>1.0</td>\n",
       "      <td>12.0</td>\n",
       "      <td>8</td>\n",
       "      <td>3.06</td>\n",
       "      <td>1</td>\n",
       "      <td>3392.41</td>\n",
       "    </tr>\n",
       "  </tbody>\n",
       "</table>\n",
       "</div>"
      ],
      "text/plain": [
       "     SquareFeet  Bedrooms  Bathrooms   Age  Floor  DistanceToDowntown  \\\n",
       "548       916.0       2.0        2.0  47.0      7                 NaN   \n",
       "549       674.0       3.0        3.0  18.0      1                4.06   \n",
       "550       896.0       2.0        2.0  25.0      6                7.53   \n",
       "551       848.0       4.0        4.0   0.0      6                3.95   \n",
       "552      1069.0       2.0        1.0  12.0      8                3.06   \n",
       "\n",
       "     HasParking     Rent  \n",
       "548           0  2703.11  \n",
       "549           1  3589.11  \n",
       "550           1  2493.28  \n",
       "551           1  4383.80  \n",
       "552           1  3392.41  "
      ]
     },
     "execution_count": 5,
     "metadata": {},
     "output_type": "execute_result"
    }
   ],
   "source": [
    "df.head()\n",
    "df.tail()"
   ]
  },
  {
   "cell_type": "markdown",
   "id": "c761aeb6-bf7c-491b-9155-f59ae20947e9",
   "metadata": {},
   "source": [
    "## Check for duplicates"
   ]
  },
  {
   "cell_type": "code",
   "execution_count": 6,
   "id": "c03a640a-ede4-4a43-9788-b22b045e90ce",
   "metadata": {},
   "outputs": [
    {
     "data": {
      "text/plain": [
       "np.int64(16)"
      ]
     },
     "execution_count": 6,
     "metadata": {},
     "output_type": "execute_result"
    }
   ],
   "source": [
    "# Number of dupliciate rows across all columns\n",
    "df.duplicated().sum()"
   ]
  },
  {
   "cell_type": "code",
   "execution_count": 7,
   "id": "8f09470d-3709-406e-9057-448f3e17586d",
   "metadata": {},
   "outputs": [
    {
     "data": {
      "text/html": [
       "<div>\n",
       "<style scoped>\n",
       "    .dataframe tbody tr th:only-of-type {\n",
       "        vertical-align: middle;\n",
       "    }\n",
       "\n",
       "    .dataframe tbody tr th {\n",
       "        vertical-align: top;\n",
       "    }\n",
       "\n",
       "    .dataframe thead th {\n",
       "        text-align: right;\n",
       "    }\n",
       "</style>\n",
       "<table border=\"1\" class=\"dataframe\">\n",
       "  <thead>\n",
       "    <tr style=\"text-align: right;\">\n",
       "      <th></th>\n",
       "      <th>SquareFeet</th>\n",
       "      <th>Bedrooms</th>\n",
       "      <th>Bathrooms</th>\n",
       "      <th>Age</th>\n",
       "      <th>Floor</th>\n",
       "      <th>DistanceToDowntown</th>\n",
       "      <th>HasParking</th>\n",
       "      <th>Rent</th>\n",
       "    </tr>\n",
       "  </thead>\n",
       "  <tbody>\n",
       "    <tr>\n",
       "      <th>537</th>\n",
       "      <td>805.0</td>\n",
       "      <td>2.0</td>\n",
       "      <td>2.0</td>\n",
       "      <td>32.0</td>\n",
       "      <td>4</td>\n",
       "      <td>6.96</td>\n",
       "      <td>1</td>\n",
       "      <td>2848.43</td>\n",
       "    </tr>\n",
       "    <tr>\n",
       "      <th>538</th>\n",
       "      <td>476.0</td>\n",
       "      <td>4.0</td>\n",
       "      <td>3.0</td>\n",
       "      <td>29.0</td>\n",
       "      <td>5</td>\n",
       "      <td>6.61</td>\n",
       "      <td>0</td>\n",
       "      <td>3474.70</td>\n",
       "    </tr>\n",
       "    <tr>\n",
       "      <th>539</th>\n",
       "      <td>1230.0</td>\n",
       "      <td>2.0</td>\n",
       "      <td>1.0</td>\n",
       "      <td>48.0</td>\n",
       "      <td>3</td>\n",
       "      <td>2.29</td>\n",
       "      <td>1</td>\n",
       "      <td>2951.64</td>\n",
       "    </tr>\n",
       "    <tr>\n",
       "      <th>540</th>\n",
       "      <td>1021.0</td>\n",
       "      <td>2.0</td>\n",
       "      <td>2.0</td>\n",
       "      <td>9.0</td>\n",
       "      <td>8</td>\n",
       "      <td>NaN</td>\n",
       "      <td>0</td>\n",
       "      <td>3509.04</td>\n",
       "    </tr>\n",
       "    <tr>\n",
       "      <th>541</th>\n",
       "      <td>666.0</td>\n",
       "      <td>1.0</td>\n",
       "      <td>1.0</td>\n",
       "      <td>28.0</td>\n",
       "      <td>4</td>\n",
       "      <td>7.72</td>\n",
       "      <td>1</td>\n",
       "      <td>2311.07</td>\n",
       "    </tr>\n",
       "    <tr>\n",
       "      <th>542</th>\n",
       "      <td>934.0</td>\n",
       "      <td>1.0</td>\n",
       "      <td>1.0</td>\n",
       "      <td>14.0</td>\n",
       "      <td>8</td>\n",
       "      <td>5.04</td>\n",
       "      <td>0</td>\n",
       "      <td>2692.32</td>\n",
       "    </tr>\n",
       "    <tr>\n",
       "      <th>543</th>\n",
       "      <td>1138.0</td>\n",
       "      <td>1.0</td>\n",
       "      <td>1.0</td>\n",
       "      <td>20.0</td>\n",
       "      <td>4</td>\n",
       "      <td>5.76</td>\n",
       "      <td>1</td>\n",
       "      <td>2588.13</td>\n",
       "    </tr>\n",
       "    <tr>\n",
       "      <th>544</th>\n",
       "      <td>847.0</td>\n",
       "      <td>1.0</td>\n",
       "      <td>1.0</td>\n",
       "      <td>18.0</td>\n",
       "      <td>9</td>\n",
       "      <td>5.15</td>\n",
       "      <td>1</td>\n",
       "      <td>2534.58</td>\n",
       "    </tr>\n",
       "    <tr>\n",
       "      <th>545</th>\n",
       "      <td>880.0</td>\n",
       "      <td>2.0</td>\n",
       "      <td>1.0</td>\n",
       "      <td>18.0</td>\n",
       "      <td>5</td>\n",
       "      <td>3.48</td>\n",
       "      <td>1</td>\n",
       "      <td>3104.69</td>\n",
       "    </tr>\n",
       "    <tr>\n",
       "      <th>546</th>\n",
       "      <td>695.0</td>\n",
       "      <td>1.0</td>\n",
       "      <td>1.0</td>\n",
       "      <td>12.0</td>\n",
       "      <td>1</td>\n",
       "      <td>8.28</td>\n",
       "      <td>0</td>\n",
       "      <td>2114.96</td>\n",
       "    </tr>\n",
       "    <tr>\n",
       "      <th>547</th>\n",
       "      <td>796.0</td>\n",
       "      <td>1.0</td>\n",
       "      <td>1.0</td>\n",
       "      <td>NaN</td>\n",
       "      <td>4</td>\n",
       "      <td>2.73</td>\n",
       "      <td>1</td>\n",
       "      <td>2444.84</td>\n",
       "    </tr>\n",
       "    <tr>\n",
       "      <th>548</th>\n",
       "      <td>916.0</td>\n",
       "      <td>2.0</td>\n",
       "      <td>2.0</td>\n",
       "      <td>47.0</td>\n",
       "      <td>7</td>\n",
       "      <td>NaN</td>\n",
       "      <td>0</td>\n",
       "      <td>2703.11</td>\n",
       "    </tr>\n",
       "    <tr>\n",
       "      <th>549</th>\n",
       "      <td>674.0</td>\n",
       "      <td>3.0</td>\n",
       "      <td>3.0</td>\n",
       "      <td>18.0</td>\n",
       "      <td>1</td>\n",
       "      <td>4.06</td>\n",
       "      <td>1</td>\n",
       "      <td>3589.11</td>\n",
       "    </tr>\n",
       "    <tr>\n",
       "      <th>550</th>\n",
       "      <td>896.0</td>\n",
       "      <td>2.0</td>\n",
       "      <td>2.0</td>\n",
       "      <td>25.0</td>\n",
       "      <td>6</td>\n",
       "      <td>7.53</td>\n",
       "      <td>1</td>\n",
       "      <td>2493.28</td>\n",
       "    </tr>\n",
       "    <tr>\n",
       "      <th>551</th>\n",
       "      <td>848.0</td>\n",
       "      <td>4.0</td>\n",
       "      <td>4.0</td>\n",
       "      <td>0.0</td>\n",
       "      <td>6</td>\n",
       "      <td>3.95</td>\n",
       "      <td>1</td>\n",
       "      <td>4383.80</td>\n",
       "    </tr>\n",
       "    <tr>\n",
       "      <th>552</th>\n",
       "      <td>1069.0</td>\n",
       "      <td>2.0</td>\n",
       "      <td>1.0</td>\n",
       "      <td>12.0</td>\n",
       "      <td>8</td>\n",
       "      <td>3.06</td>\n",
       "      <td>1</td>\n",
       "      <td>3392.41</td>\n",
       "    </tr>\n",
       "  </tbody>\n",
       "</table>\n",
       "</div>"
      ],
      "text/plain": [
       "     SquareFeet  Bedrooms  Bathrooms   Age  Floor  DistanceToDowntown  \\\n",
       "537       805.0       2.0        2.0  32.0      4                6.96   \n",
       "538       476.0       4.0        3.0  29.0      5                6.61   \n",
       "539      1230.0       2.0        1.0  48.0      3                2.29   \n",
       "540      1021.0       2.0        2.0   9.0      8                 NaN   \n",
       "541       666.0       1.0        1.0  28.0      4                7.72   \n",
       "542       934.0       1.0        1.0  14.0      8                5.04   \n",
       "543      1138.0       1.0        1.0  20.0      4                5.76   \n",
       "544       847.0       1.0        1.0  18.0      9                5.15   \n",
       "545       880.0       2.0        1.0  18.0      5                3.48   \n",
       "546       695.0       1.0        1.0  12.0      1                8.28   \n",
       "547       796.0       1.0        1.0   NaN      4                2.73   \n",
       "548       916.0       2.0        2.0  47.0      7                 NaN   \n",
       "549       674.0       3.0        3.0  18.0      1                4.06   \n",
       "550       896.0       2.0        2.0  25.0      6                7.53   \n",
       "551       848.0       4.0        4.0   0.0      6                3.95   \n",
       "552      1069.0       2.0        1.0  12.0      8                3.06   \n",
       "\n",
       "     HasParking     Rent  \n",
       "537           1  2848.43  \n",
       "538           0  3474.70  \n",
       "539           1  2951.64  \n",
       "540           0  3509.04  \n",
       "541           1  2311.07  \n",
       "542           0  2692.32  \n",
       "543           1  2588.13  \n",
       "544           1  2534.58  \n",
       "545           1  3104.69  \n",
       "546           0  2114.96  \n",
       "547           1  2444.84  \n",
       "548           0  2703.11  \n",
       "549           1  3589.11  \n",
       "550           1  2493.28  \n",
       "551           1  4383.80  \n",
       "552           1  3392.41  "
      ]
     },
     "execution_count": 7,
     "metadata": {},
     "output_type": "execute_result"
    }
   ],
   "source": [
    "# View the duplicates\n",
    "df[df.duplicated()]"
   ]
  },
  {
   "cell_type": "code",
   "execution_count": 8,
   "id": "044786aa-6c57-40cd-80f1-3ea690690f60",
   "metadata": {},
   "outputs": [],
   "source": [
    "# Remove duplicates (across all rows)\n",
    "df = df.drop_duplicates()"
   ]
  },
  {
   "cell_type": "code",
   "execution_count": 9,
   "id": "d5eac7a1-0388-4716-ad78-393d373b06f3",
   "metadata": {},
   "outputs": [
    {
     "data": {
      "text/plain": [
       "(537, 8)"
      ]
     },
     "execution_count": 9,
     "metadata": {},
     "output_type": "execute_result"
    }
   ],
   "source": [
    "df.shape"
   ]
  },
  {
   "cell_type": "markdown",
   "id": "5bece56e-cb48-4103-8db0-5309548b5e99",
   "metadata": {},
   "source": [
    "## Check for missing values"
   ]
  },
  {
   "cell_type": "code",
   "execution_count": 10,
   "id": "7abf7444-f496-44b9-8a3a-abae1c0ea0dd",
   "metadata": {},
   "outputs": [],
   "source": [
    "def show_missing(df):\n",
    "    \"\"\"\n",
    "    Takes a dataframe and returns a dataframe with stats\n",
    "    on missing and null values with their percentages.\n",
    "    \"\"\"\n",
    "    null_count = df.isnull().sum()\n",
    "    null_percentage = (null_count / df.shape[0]) * 100\n",
    "    empty_count = pd.Series(((df == ' ') | (df == '')).sum())\n",
    "    empty_percentage = (empty_count / df.shape[0]) * 100\n",
    "    nan_count = pd.Series(((df == 'nan') | (df == 'NaN')).sum())\n",
    "    nan_percentage = (nan_count / df.shape[0]) * 100\n",
    "    dfx = pd.DataFrame({'num_missing': null_count, 'missing_percentage': null_percentage,\n",
    "                         'num_empty': empty_count, 'empty_percentage': empty_percentage,\n",
    "                         'nan_count': nan_count, 'nan_percentage': nan_percentage})\n",
    "    return dfx"
   ]
  },
  {
   "cell_type": "code",
   "execution_count": 11,
   "id": "bd1cb0c2-e38f-47b8-8d3d-42b24ab93d24",
   "metadata": {},
   "outputs": [
    {
     "data": {
      "text/html": [
       "<div>\n",
       "<style scoped>\n",
       "    .dataframe tbody tr th:only-of-type {\n",
       "        vertical-align: middle;\n",
       "    }\n",
       "\n",
       "    .dataframe tbody tr th {\n",
       "        vertical-align: top;\n",
       "    }\n",
       "\n",
       "    .dataframe thead th {\n",
       "        text-align: right;\n",
       "    }\n",
       "</style>\n",
       "<table border=\"1\" class=\"dataframe\">\n",
       "  <thead>\n",
       "    <tr style=\"text-align: right;\">\n",
       "      <th></th>\n",
       "      <th>num_missing</th>\n",
       "      <th>missing_percentage</th>\n",
       "      <th>num_empty</th>\n",
       "      <th>empty_percentage</th>\n",
       "      <th>nan_count</th>\n",
       "      <th>nan_percentage</th>\n",
       "    </tr>\n",
       "  </thead>\n",
       "  <tbody>\n",
       "    <tr>\n",
       "      <th>SquareFeet</th>\n",
       "      <td>26</td>\n",
       "      <td>4.841713</td>\n",
       "      <td>0</td>\n",
       "      <td>0.0</td>\n",
       "      <td>0</td>\n",
       "      <td>0.0</td>\n",
       "    </tr>\n",
       "    <tr>\n",
       "      <th>Bedrooms</th>\n",
       "      <td>26</td>\n",
       "      <td>4.841713</td>\n",
       "      <td>0</td>\n",
       "      <td>0.0</td>\n",
       "      <td>0</td>\n",
       "      <td>0.0</td>\n",
       "    </tr>\n",
       "    <tr>\n",
       "      <th>Bathrooms</th>\n",
       "      <td>26</td>\n",
       "      <td>4.841713</td>\n",
       "      <td>0</td>\n",
       "      <td>0.0</td>\n",
       "      <td>0</td>\n",
       "      <td>0.0</td>\n",
       "    </tr>\n",
       "    <tr>\n",
       "      <th>Age</th>\n",
       "      <td>26</td>\n",
       "      <td>4.841713</td>\n",
       "      <td>0</td>\n",
       "      <td>0.0</td>\n",
       "      <td>0</td>\n",
       "      <td>0.0</td>\n",
       "    </tr>\n",
       "    <tr>\n",
       "      <th>Floor</th>\n",
       "      <td>0</td>\n",
       "      <td>0.000000</td>\n",
       "      <td>0</td>\n",
       "      <td>0.0</td>\n",
       "      <td>0</td>\n",
       "      <td>0.0</td>\n",
       "    </tr>\n",
       "    <tr>\n",
       "      <th>DistanceToDowntown</th>\n",
       "      <td>26</td>\n",
       "      <td>4.841713</td>\n",
       "      <td>0</td>\n",
       "      <td>0.0</td>\n",
       "      <td>0</td>\n",
       "      <td>0.0</td>\n",
       "    </tr>\n",
       "    <tr>\n",
       "      <th>HasParking</th>\n",
       "      <td>0</td>\n",
       "      <td>0.000000</td>\n",
       "      <td>0</td>\n",
       "      <td>0.0</td>\n",
       "      <td>0</td>\n",
       "      <td>0.0</td>\n",
       "    </tr>\n",
       "    <tr>\n",
       "      <th>Rent</th>\n",
       "      <td>0</td>\n",
       "      <td>0.000000</td>\n",
       "      <td>0</td>\n",
       "      <td>0.0</td>\n",
       "      <td>0</td>\n",
       "      <td>0.0</td>\n",
       "    </tr>\n",
       "  </tbody>\n",
       "</table>\n",
       "</div>"
      ],
      "text/plain": [
       "                    num_missing  missing_percentage  num_empty  \\\n",
       "SquareFeet                   26            4.841713          0   \n",
       "Bedrooms                     26            4.841713          0   \n",
       "Bathrooms                    26            4.841713          0   \n",
       "Age                          26            4.841713          0   \n",
       "Floor                         0            0.000000          0   \n",
       "DistanceToDowntown           26            4.841713          0   \n",
       "HasParking                    0            0.000000          0   \n",
       "Rent                          0            0.000000          0   \n",
       "\n",
       "                    empty_percentage  nan_count  nan_percentage  \n",
       "SquareFeet                       0.0          0             0.0  \n",
       "Bedrooms                         0.0          0             0.0  \n",
       "Bathrooms                        0.0          0             0.0  \n",
       "Age                              0.0          0             0.0  \n",
       "Floor                            0.0          0             0.0  \n",
       "DistanceToDowntown               0.0          0             0.0  \n",
       "HasParking                       0.0          0             0.0  \n",
       "Rent                             0.0          0             0.0  "
      ]
     },
     "execution_count": 11,
     "metadata": {},
     "output_type": "execute_result"
    }
   ],
   "source": [
    "show_missing(df)"
   ]
  },
  {
   "cell_type": "code",
   "execution_count": 12,
   "id": "6058d9c4-c37d-468d-b28c-401307ee2e4d",
   "metadata": {},
   "outputs": [],
   "source": [
    "# Drop all rows with a NaN in any of the columns\n",
    "df = df.dropna()"
   ]
  },
  {
   "cell_type": "code",
   "execution_count": 13,
   "id": "c95e01ce-7a96-47ca-a093-380cb1a6abaa",
   "metadata": {},
   "outputs": [
    {
     "data": {
      "text/plain": [
       "(418, 8)"
      ]
     },
     "execution_count": 13,
     "metadata": {},
     "output_type": "execute_result"
    }
   ],
   "source": [
    "df.shape"
   ]
  },
  {
   "cell_type": "markdown",
   "id": "34a92fdc-3da6-45d0-9f61-901c83a337f4",
   "metadata": {},
   "source": [
    "# EXPLORATORY DATA ANALYSIS"
   ]
  },
  {
   "cell_type": "code",
   "execution_count": 14,
   "id": "cfa2ebcc-2223-46ef-a88a-c7bd3007bda4",
   "metadata": {},
   "outputs": [
    {
     "name": "stdout",
     "output_type": "stream",
     "text": [
      "\n",
      "Numeric Summary:\n",
      "         SquareFeet    Bedrooms   Bathrooms         Age       Floor  \\\n",
      "count   418.000000  418.000000  418.000000  418.000000  418.000000   \n",
      "mean    842.351675    2.033493    1.813397   22.291866    5.045455   \n",
      "std     197.492308    0.912912    0.899567   14.277348    2.499945   \n",
      "min     400.000000    1.000000    1.000000    0.000000    1.000000   \n",
      "25%     706.250000    1.000000    1.000000   10.000000    3.000000   \n",
      "50%     835.500000    2.000000    2.000000   22.000000    5.000000   \n",
      "75%     967.250000    3.000000    2.000000   34.000000    7.000000   \n",
      "max    1453.000000    4.000000    4.000000   49.000000    9.000000   \n",
      "\n",
      "       DistanceToDowntown  HasParking         Rent  \n",
      "count          418.000000  418.000000   418.000000  \n",
      "mean             5.097321    0.739234  2985.002990  \n",
      "std              1.912078    0.439578   539.456159  \n",
      "min              0.040000    0.000000  1840.150000  \n",
      "25%              3.835000    0.000000  2610.485000  \n",
      "50%              4.985000    1.000000  2929.240000  \n",
      "75%              6.397500    1.000000  3323.502500  \n",
      "max             10.180000    1.000000  4797.770000  \n"
     ]
    }
   ],
   "source": [
    "# Numerical feature summary\n",
    "numeric_cols = df.select_dtypes(include=[np.number]).columns\n",
    "print(\"\\nNumeric Summary:\\n\", df[numeric_cols].describe())"
   ]
  },
  {
   "cell_type": "code",
   "execution_count": 15,
   "id": "717f324b-c335-4bea-b1f6-8ea55e63fa8c",
   "metadata": {},
   "outputs": [
    {
     "data": {
      "text/plain": [
       "array([[<Axes: title={'center': 'SquareFeet'}>,\n",
       "        <Axes: title={'center': 'Bedrooms'}>,\n",
       "        <Axes: title={'center': 'Bathrooms'}>],\n",
       "       [<Axes: title={'center': 'Age'}>,\n",
       "        <Axes: title={'center': 'Floor'}>,\n",
       "        <Axes: title={'center': 'DistanceToDowntown'}>],\n",
       "       [<Axes: title={'center': 'HasParking'}>,\n",
       "        <Axes: title={'center': 'Rent'}>, <Axes: >]], dtype=object)"
      ]
     },
     "execution_count": 15,
     "metadata": {},
     "output_type": "execute_result"
    },
    {
     "data": {
      "text/plain": [
       "Text(0.5, 0.98, 'Histograms of Numeric Features')"
      ]
     },
     "execution_count": 15,
     "metadata": {},
     "output_type": "execute_result"
    },
    {
     "data": {
      "image/png": "[encoded data removed]",
      "text/plain": [
       "<Figure size 1500x1000 with 9 Axes>"
      ]
     },
     "metadata": {},
     "output_type": "display_data"
    }
   ],
   "source": [
    "# Distribution Plots\n",
    "\n",
    "import matplotlib.pyplot as plt\n",
    "import seaborn as sns\n",
    "\n",
    "df[numeric_cols].hist(bins=30, figsize=(15, 10), edgecolor='black')\n",
    "plt.suptitle(\"Histograms of Numeric Features\")\n",
    "plt.tight_layout()\n",
    "plt.show()"
   ]
  },
  {
   "cell_type": "code",
   "execution_count": 16,
   "id": "0bb5f170-b2ea-44b8-bdb0-20db93cf0e9f",
   "metadata": {},
   "outputs": [
    {
     "data": {
      "text/plain": [
       "<Figure size 1200x800 with 0 Axes>"
      ]
     },
     "execution_count": 16,
     "metadata": {},
     "output_type": "execute_result"
    },
    {
     "data": {
      "text/plain": [
       "<Axes: >"
      ]
     },
     "execution_count": 16,
     "metadata": {},
     "output_type": "execute_result"
    },
    {
     "data": {
      "text/plain": [
       "Text(0.5, 1.0, 'Correlation Matrix')"
      ]
     },
     "execution_count": 16,
     "metadata": {},
     "output_type": "execute_result"
    },
    {
     "data": {
      "image/png": "[encoded data removed]",
      "text/plain": [
       "<Figure size 1200x800 with 2 Axes>"
      ]
     },
     "metadata": {},
     "output_type": "display_data"
    }
   ],
   "source": [
    "# Correlation Matrix\n",
    "plt.figure(figsize=(12, 8))\n",
    "sns.heatmap(df[numeric_cols].corr(), annot=True, cmap='coolwarm', fmt=\".2f\")\n",
    "plt.title(\"Correlation Matrix\")\n",
    "plt.show()"
   ]
  },
  {
   "cell_type": "code",
   "execution_count": 17,
   "id": "493a431c-d096-47cc-bff6-6aebec796c4c",
   "metadata": {},
   "outputs": [],
   "source": [
    "# Categorical Overview\n",
    "cat_cols = df.select_dtypes(include=['object', 'category', 'bool']).columns\n",
    "for col in cat_cols:\n",
    "    print(f\"\\n{col} value counts:\\n\", df[col].value_counts(dropna=False))"
   ]
  },
  {
   "cell_type": "code",
   "execution_count": 18,
   "id": "b139f786-79b4-4a01-a3fa-ae1b5eb34d48",
   "metadata": {},
   "outputs": [
    {
     "data": {
      "text/plain": [
       "<Figure size 600x200 with 0 Axes>"
      ]
     },
     "execution_count": 18,
     "metadata": {},
     "output_type": "execute_result"
    },
    {
     "data": {
      "text/plain": [
       "<Axes: xlabel='SquareFeet'>"
      ]
     },
     "execution_count": 18,
     "metadata": {},
     "output_type": "execute_result"
    },
    {
     "data": {
      "text/plain": [
       "Text(0.5, 1.0, 'Boxplot for SquareFeet')"
      ]
     },
     "execution_count": 18,
     "metadata": {},
     "output_type": "execute_result"
    },
    {
     "data": {
      "image/png": "[encoded data removed]",
      "text/plain": [
       "<Figure size 600x200 with 1 Axes>"
      ]
     },
     "metadata": {},
     "output_type": "display_data"
    },
    {
     "data": {
      "text/plain": [
       "<Figure size 600x200 with 0 Axes>"
      ]
     },
     "execution_count": 18,
     "metadata": {},
     "output_type": "execute_result"
    },
    {
     "data": {
      "text/plain": [
       "<Axes: xlabel='Bedrooms'>"
      ]
     },
     "execution_count": 18,
     "metadata": {},
     "output_type": "execute_result"
    },
    {
     "data": {
      "text/plain": [
       "Text(0.5, 1.0, 'Boxplot for Bedrooms')"
      ]
     },
     "execution_count": 18,
     "metadata": {},
     "output_type": "execute_result"
    },
    {
     "data": {
      "image/png": "[encoded data removed]",
      "text/plain": [
       "<Figure size 600x200 with 1 Axes>"
      ]
     },
     "metadata": {},
     "output_type": "display_data"
    },
    {
     "data": {
      "text/plain": [
       "<Figure size 600x200 with 0 Axes>"
      ]
     },
     "execution_count": 18,
     "metadata": {},
     "output_type": "execute_result"
    },
    {
     "data": {
      "text/plain": [
       "<Axes: xlabel='Bathrooms'>"
      ]
     },
     "execution_count": 18,
     "metadata": {},
     "output_type": "execute_result"
    },
    {
     "data": {
      "text/plain": [
       "Text(0.5, 1.0, 'Boxplot for Bathrooms')"
      ]
     },
     "execution_count": 18,
     "metadata": {},
     "output_type": "execute_result"
    },
    {
     "data": {
      "image/png": "[encoded data removed]",
      "text/plain": [
       "<Figure size 600x200 with 1 Axes>"
      ]
     },
     "metadata": {},
     "output_type": "display_data"
    },
    {
     "data": {
      "text/plain": [
       "<Figure size 600x200 with 0 Axes>"
      ]
     },
     "execution_count": 18,
     "metadata": {},
     "output_type": "execute_result"
    },
    {
     "data": {
      "text/plain": [
       "<Axes: xlabel='Age'>"
      ]
     },
     "execution_count": 18,
     "metadata": {},
     "output_type": "execute_result"
    },
    {
     "data": {
      "text/plain": [
       "Text(0.5, 1.0, 'Boxplot for Age')"
      ]
     },
     "execution_count": 18,
     "metadata": {},
     "output_type": "execute_result"
    },
    {
     "data": {
      "image/png": "[encoded data removed]",
      "text/plain": [
       "<Figure size 600x200 with 1 Axes>"
      ]
     },
     "metadata": {},
     "output_type": "display_data"
    },
    {
     "data": {
      "text/plain": [
       "<Figure size 600x200 with 0 Axes>"
      ]
     },
     "execution_count": 18,
     "metadata": {},
     "output_type": "execute_result"
    },
    {
     "data": {
      "text/plain": [
       "<Axes: xlabel='Floor'>"
      ]
     },
     "execution_count": 18,
     "metadata": {},
     "output_type": "execute_result"
    },
    {
     "data": {
      "text/plain": [
       "Text(0.5, 1.0, 'Boxplot for Floor')"
      ]
     },
     "execution_count": 18,
     "metadata": {},
     "output_type": "execute_result"
    },
    {
     "data": {
      "image/png": "[encoded data removed]",
      "text/plain": [
       "<Figure size 600x200 with 1 Axes>"
      ]
     },
     "metadata": {},
     "output_type": "display_data"
    },
    {
     "data": {
      "text/plain": [
       "<Figure size 600x200 with 0 Axes>"
      ]
     },
     "execution_count": 18,
     "metadata": {},
     "output_type": "execute_result"
    },
    {
     "data": {
      "text/plain": [
       "<Axes: xlabel='DistanceToDowntown'>"
      ]
     },
     "execution_count": 18,
     "metadata": {},
     "output_type": "execute_result"
    },
    {
     "data": {
      "text/plain": [
       "Text(0.5, 1.0, 'Boxplot for DistanceToDowntown')"
      ]
     },
     "execution_count": 18,
     "metadata": {},
     "output_type": "execute_result"
    },
    {
     "data": {
      "image/png": "[encoded data removed]",
      "text/plain": [
       "<Figure size 600x200 with 1 Axes>"
      ]
     },
     "metadata": {},
     "output_type": "display_data"
    },
    {
     "data": {
      "text/plain": [
       "<Figure size 600x200 with 0 Axes>"
      ]
     },
     "execution_count": 18,
     "metadata": {},
     "output_type": "execute_result"
    },
    {
     "data": {
      "text/plain": [
       "<Axes: xlabel='HasParking'>"
      ]
     },
     "execution_count": 18,
     "metadata": {},
     "output_type": "execute_result"
    },
    {
     "data": {
      "text/plain": [
       "Text(0.5, 1.0, 'Boxplot for HasParking')"
      ]
     },
     "execution_count": 18,
     "metadata": {},
     "output_type": "execute_result"
    },
    {
     "data": {
      "image/png": "[encoded data removed]",
      "text/plain": [
       "<Figure size 600x200 with 1 Axes>"
      ]
     },
     "metadata": {},
     "output_type": "display_data"
    },
    {
     "data": {
      "text/plain": [
       "<Figure size 600x200 with 0 Axes>"
      ]
     },
     "execution_count": 18,
     "metadata": {},
     "output_type": "execute_result"
    },
    {
     "data": {
      "text/plain": [
       "<Axes: xlabel='Rent'>"
      ]
     },
     "execution_count": 18,
     "metadata": {},
     "output_type": "execute_result"
    },
    {
     "data": {
      "text/plain": [
       "Text(0.5, 1.0, 'Boxplot for Rent')"
      ]
     },
     "execution_count": 18,
     "metadata": {},
     "output_type": "execute_result"
    },
    {
     "data": {
      "image/png": "[encoded data removed]",
      "text/plain": [
       "<Figure size 600x200 with 1 Axes>"
      ]
     },
     "metadata": {},
     "output_type": "display_data"
    }
   ],
   "source": [
    "# Outlier Detection\n",
    "\n",
    "import matplotlib.pyplot as plt\n",
    "import seaborn as sns\n",
    "\n",
    "for col in numeric_cols:\n",
    "    plt.figure(figsize=(6, 2))\n",
    "    sns.boxplot(x=df[col])\n",
    "    plt.title(f\"Boxplot for {col}\")\n",
    "    plt.tight_layout()\n",
    "    plt.show()"
   ]
  },
  {
   "cell_type": "code",
   "execution_count": 19,
   "id": "f46f385d-714f-4b06-ab12-d9b0d1ae8461",
   "metadata": {},
   "outputs": [],
   "source": [
    "# Remove outliers using IQR\n",
    "\n",
    "# Select numeric columns\n",
    "numeric_cols = df.select_dtypes(include=[np.number]).columns\n",
    "\n",
    "# Compute IQR for each numeric column\n",
    "Q1 = df[numeric_cols].quantile(0.25)\n",
    "Q3 = df[numeric_cols].quantile(0.75)\n",
    "IQR = Q3 - Q1\n",
    "\n",
    "# Boolean mask for rows that are NOT outliers\n",
    "non_outlier_mask = ~((df[numeric_cols] < (Q1 - 1.5 * IQR)) | \n",
    "                     (df[numeric_cols] > (Q3 + 1.5 * IQR))).any(axis=1)\n",
    "\n",
    "# Filter out outliers\n",
    "df = df[non_outlier_mask].reset_index(drop=True)"
   ]
  },
  {
   "cell_type": "code",
   "execution_count": 20,
   "id": "69407c08-da6a-4b54-9d06-0b28252230c9",
   "metadata": {},
   "outputs": [
    {
     "data": {
      "text/plain": [
       "(389, 8)"
      ]
     },
     "execution_count": 20,
     "metadata": {},
     "output_type": "execute_result"
    }
   ],
   "source": [
    "df.shape"
   ]
  },
  {
   "cell_type": "markdown",
   "id": "0a813e5e-c005-451f-8111-af56b2b2c309",
   "metadata": {},
   "source": [
    "## Save to CSV"
   ]
  },
  {
   "cell_type": "code",
   "execution_count": 21,
   "id": "bac37a00-bcc9-4156-8db8-be8e1d64dec5",
   "metadata": {},
   "outputs": [],
   "source": [
    "df.to_csv('../data/fakeville_data_clean.csv', index=False)"
   ]
  }
 ],
 "metadata": {
  "kernelspec": {
   "display_name": "Python 3 (ipykernel)",
   "language": "python",
   "name": "python3"
  },
  "language_info": {
   "codemirror_mode": {
    "name": "ipython",
    "version": 3
   },
   "file_extension": ".py",
   "mimetype": "text/x-python",
   "name": "python",
   "nbconvert_exporter": "python",
   "pygments_lexer": "ipython3",
   "version": "3.12.9"
  }
 },
 "nbformat": 4,
 "nbformat_minor": 5
}
