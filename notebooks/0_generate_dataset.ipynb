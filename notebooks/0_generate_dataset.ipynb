{
 "cells": [
  {
   "cell_type": "code",
   "execution_count": 1,
   "id": "0508c631-0ccc-4f96-a769-f029f33aa2b6",
   "metadata": {},
   "outputs": [],
   "source": [
    "# Manipulating dataframes\n",
    "import pandas as pd\n",
    "import numpy as np\n",
    "\n",
    "# For reproducibility\n",
    "import random\n",
    "np.random.seed(493)"
   ]
  },
  {
   "cell_type": "code",
   "execution_count": 2,
   "id": "594106fa",
   "metadata": {},
   "outputs": [
    {
     "data": {
      "text/plain": [
       "(537, 8)"
      ]
     },
     "execution_count": 2,
     "metadata": {},
     "output_type": "execute_result"
    }
   ],
   "source": [
    "# Number of samples\n",
    "n_samples = 537\n",
    "\n",
    "# Generate features\n",
    "square_feet = np.random.normal(loc=850, scale=200, size=n_samples).clip(400, 2000)\n",
    "bedrooms = np.random.choice([1, 2, 3, 4], size=n_samples, p=[0.3, 0.4, 0.2, 0.1])\n",
    "bathrooms = bedrooms - np.random.choice([0, 1], size=n_samples, p=[0.7, 0.3])\n",
    "bathrooms = np.clip(bathrooms, 1, None)\n",
    "age = np.random.randint(0, 50, size=n_samples)\n",
    "floor = np.random.randint(1, 10, size=n_samples)\n",
    "downtown_distance = np.abs(np.random.normal(loc=5, scale=2, size=n_samples))\n",
    "has_parking = np.random.choice([0, 1], size=n_samples, p=[0.3, 0.7])\n",
    "log_sqft = np.log(square_feet)\n",
    "\n",
    "# Realistic rent calculation\n",
    "rent = (\n",
    "    900\n",
    "    + 300 * bedrooms\n",
    "    + 200 * bathrooms\n",
    "    + 250 * log_sqft\n",
    "    - 8 * age\n",
    "    - 120 * downtown_distance\n",
    "    + 25 * floor\n",
    "    + 150 * has_parking\n",
    "    + np.random.normal(0, 150, size=n_samples)\n",
    ")\n",
    "\n",
    "# Add heteroskedastic noise\n",
    "heteroskedastic_noise = np.random.normal(0, 0.001 * square_feet ** 1.5)\n",
    "rent += heteroskedastic_noise\n",
    "\n",
    "# Assemble DataFrame\n",
    "df_fakeville = pd.DataFrame({\n",
    "    'SquareFeet': square_feet.astype(int),\n",
    "    'Bedrooms': bedrooms,\n",
    "    'Bathrooms': bathrooms,\n",
    "    'Age': age,\n",
    "    'Floor': floor,\n",
    "    'DistanceToDowntown': downtown_distance.round(2),\n",
    "    'HasParking': has_parking,\n",
    "    'Rent': rent.round(2)\n",
    "})\n",
    "\n",
    "# Create a copy to introduce nulls and duplicates\n",
    "df_dirty = df_fakeville.copy()\n",
    "\n",
    "# Introduce random NaNs into about 5% of the data per selected column\n",
    "for col in ['SquareFeet', 'Bedrooms', 'Bathrooms', 'Age', 'DistanceToDowntown']:\n",
    "    n_missing = int(0.05 * len(df_dirty))\n",
    "    missing_indices = np.random.choice(df_dirty.index, size=n_missing, replace=False)\n",
    "    df_dirty.loc[missing_indices, col] = np.nan\n",
    "\n",
    "# Introduce random duplicate rows (about 3% of dataset)\n",
    "n_duplicates = int(0.03 * len(df_dirty))\n",
    "duplicate_rows = df_dirty.sample(n=n_duplicates, replace=True)\n",
    "df_dirty = pd.concat([df_dirty, duplicate_rows], ignore_index=True)\n",
    "\n",
    "df_fakeville.head()\n",
    "df_fakeville.shape"
   ]
  },
  {
   "cell_type": "code",
   "execution_count": 3,
   "id": "4b66fbf0",
   "metadata": {},
   "outputs": [],
   "source": [
    "# Save to CSV\n",
    "df_fakeville.to_csv('../data/fakeville_rent.csv', index=False)"
   ]
  }
 ],
 "metadata": {
  "kernelspec": {
   "display_name": "Python 3 (ipykernel)",
   "language": "python",
   "name": "python3"
  },
  "language_info": {
   "codemirror_mode": {
    "name": "ipython",
    "version": 3
   },
   "file_extension": ".py",
   "mimetype": "text/x-python",
   "name": "python",
   "nbconvert_exporter": "python",
   "pygments_lexer": "ipython3",
   "version": "3.12.9"
  }
 },
 "nbformat": 4,
 "nbformat_minor": 5
}
